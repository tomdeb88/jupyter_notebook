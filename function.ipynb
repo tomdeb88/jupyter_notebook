{
 "cells": [
  {
   "cell_type": "markdown",
   "id": "81ad68ee-a434-421c-bf91-ae2599508d06",
   "metadata": {},
   "source": [
    "# Creating a function\n",
    "A function is a block of code which only runs when it is called.\n",
    "\n",
    "You can pass data, known as parameters, into a function.\n",
    "\n",
    "A function can return data as a result.\n",
    "\n",
    "In Python a function is defined using the def keyword:"
   ]
  },
  {
   "cell_type": "code",
   "execution_count": 3,
   "id": "6fae58a7-d817-4f09-8aa3-d3881d890b2a",
   "metadata": {},
   "outputs": [],
   "source": [
    "def adding(a,b):\n",
    "    return a+b"
   ]
  },
  {
   "cell_type": "markdown",
   "id": "6f3659ba-41b7-4abb-b3b4-98d0d1f14dd2",
   "metadata": {},
   "source": [
    "# Calling a function\n",
    "\n",
    "To call a function, use the function name followed by parenthesis:"
   ]
  },
  {
   "cell_type": "code",
   "execution_count": 4,
   "id": "ed758b8f-d8d3-4653-961f-a29bfb222642",
   "metadata": {},
   "outputs": [
    {
     "data": {
      "text/plain": [
       "9"
      ]
     },
     "execution_count": 4,
     "metadata": {},
     "output_type": "execute_result"
    }
   ],
   "source": [
    "adding(4,5)"
   ]
  }
 ],
 "metadata": {
  "kernelspec": {
   "display_name": "Python 3 (ipykernel)",
   "language": "python",
   "name": "python3"
  },
  "language_info": {
   "codemirror_mode": {
    "name": "ipython",
    "version": 3
   },
   "file_extension": ".py",
   "mimetype": "text/x-python",
   "name": "python",
   "nbconvert_exporter": "python",
   "pygments_lexer": "ipython3",
   "version": "3.11.4"
  }
 },
 "nbformat": 4,
 "nbformat_minor": 5
}
